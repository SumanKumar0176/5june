{
 "cells": [
  {
   "cell_type": "code",
   "execution_count": 1,
   "id": "e12a9c1b-b704-41b2-940f-db148af706fd",
   "metadata": {},
   "outputs": [
    {
     "data": {
      "text/plain": [
       "\"Given an integer array nums, move all 0's to the end of it while maintaining the relative order of the non-zero elements.\\n\\nNote that you must do this in-place without making a copy of the array.\\n\\nExample 1:\\nInput: nums = [0,1,0,3,12]\\nOutput: [1,3,12,0,0]\\n\\nExample 2:\\nInput: nums = [0]\\nOutput: [0]\\n\\nConstraints:\\na. 1 <= nums.length <= 10^4\\nb. -2^31 <= nums[i] <= 2^31 - 1\\n\\nNote: Create a GitHub file for the solution and add the file link the the answer section below.\""
      ]
     },
     "execution_count": 1,
     "metadata": {},
     "output_type": "execute_result"
    }
   ],
   "source": [
    "\"\"\"Given an integer array nums, move all 0's to the end of it while maintaining the relative order of the non-zero elements.\n",
    "\n",
    "Note that you must do this in-place without making a copy of the array.\n",
    "\n",
    "Example 1:\n",
    "Input: nums = [0,1,0,3,12]\n",
    "Output: [1,3,12,0,0]\n",
    "\n",
    "Example 2:\n",
    "Input: nums = [0]\n",
    "Output: [0]\n",
    "\n",
    "Constraints:\n",
    "a. 1 <= nums.length <= 10^4\n",
    "b. -2^31 <= nums[i] <= 2^31 - 1\n",
    "\n",
    "Note: Create a GitHub file for the solution and add the file link the the answer section below.\"\"\""
   ]
  },
  {
   "cell_type": "code",
   "execution_count": 2,
   "id": "980db0b2-0153-4f0a-bec6-18ba09ffd198",
   "metadata": {},
   "outputs": [],
   "source": [
    "def moveZeros(nums):\n",
    "    # Initialize two pointers\n",
    "    left = 0  # Points to the current element\n",
    "    right = 0  # Points to the position to be filled with the next non-zero element\n",
    "\n",
    "    # Iterate through the array\n",
    "    while right < len(nums):\n",
    "        # If the current element is non-zero\n",
    "        if nums[right] != 0:\n",
    "            # Swap the non-zero element with the left pointer position\n",
    "            nums[left], nums[right] = nums[right], nums[left]\n",
    "            # Move the left pointer to the next position\n",
    "            left += 1\n",
    "        # Move the right pointer to the next position\n",
    "        right += 1\n",
    "\n",
    "    return nums"
   ]
  },
  {
   "cell_type": "code",
   "execution_count": 3,
   "id": "ea0f1069-1d4d-4fba-b674-d508ef44a4f9",
   "metadata": {},
   "outputs": [
    {
     "name": "stdout",
     "output_type": "stream",
     "text": [
      "[1, 3, 12, 0, 0]\n"
     ]
    }
   ],
   "source": [
    "nums = [0,1,0,3,12]\n",
    "result = moveZeros(nums)\n",
    "print(result)"
   ]
  },
  {
   "cell_type": "code",
   "execution_count": 4,
   "id": "ef417266-e716-4fa5-b31f-ba40931f3bc1",
   "metadata": {},
   "outputs": [
    {
     "data": {
      "text/plain": [
       "'First Unique Character in a String\\n\\nGiven a string s, find the first non-repeating character in it and return its index. If it does not exist, return -1.\\n\\nExample 1:\\nInput: s = \"leetcode\"\\nOutput: 0\\n\\nExample 2:\\nInput: s = \"loveleetcode\"\\nOutput: 2\\n\\nExample 3:\\nInput: s = \"aabb\"\\nOutput: -1\\n\\nConstraints:\\na. 1 <= s.length <= 10^5\\nb. s consists of only lowercase English letters.\\n\\nNote: Create a GitHub file for the solution and add the file link the the answer section below.'"
      ]
     },
     "execution_count": 4,
     "metadata": {},
     "output_type": "execute_result"
    }
   ],
   "source": [
    "\"\"\"First Unique Character in a String\n",
    "\n",
    "Given a string s, find the first non-repeating character in it and return its index. If it does not exist, return -1.\n",
    "\n",
    "Example 1:\n",
    "Input: s = \"leetcode\"\n",
    "Output: 0\n",
    "\n",
    "Example 2:\n",
    "Input: s = \"loveleetcode\"\n",
    "Output: 2\n",
    "\n",
    "Example 3:\n",
    "Input: s = \"aabb\"\n",
    "Output: -1\n",
    "\n",
    "Constraints:\n",
    "a. 1 <= s.length <= 10^5\n",
    "b. s consists of only lowercase English letters.\n",
    "\n",
    "Note: Create a GitHub file for the solution and add the file link the the answer section below.\"\"\""
   ]
  },
  {
   "cell_type": "code",
   "execution_count": 5,
   "id": "23b8f7aa-d3af-48fe-b3d4-c6ce8fe168b7",
   "metadata": {},
   "outputs": [],
   "source": [
    "def firstUniqChar(s):\n",
    "    char_count = {}  # Dictionary to store character counts\n",
    "\n",
    "    # Count the occurrences of each character in the string\n",
    "    for char in s:\n",
    "        char_count[char] = char_count.get(char, 0) + 1\n",
    "\n",
    "    # Find the first non-repeating character and return its index\n",
    "    for i in range(len(s)):\n",
    "        if char_count[s[i]] == 1:\n",
    "            return i\n",
    "\n",
    "    # If no non-repeating character is found, return -1\n",
    "    return -1\n"
   ]
  },
  {
   "cell_type": "code",
   "execution_count": null,
   "id": "48582d67-bc0e-412c-896a-f1c8cafcff59",
   "metadata": {},
   "outputs": [],
   "source": [
    "s1 = \"leetcode\"\n",
    "result1 = firstUniqChar(s1)\n",
    "print(result1)  # Output: 0\n",
    "\n",
    "s2 = \"loveleetcode\"\n",
    "result2 = firstUniqChar(s2)\n",
    "print(result2)  # Output: 2\n",
    "\n",
    "\n",
    "s3 =  \"aabb\"\n",
    "result2 = firstUniqChar(s3)\n",
    "print(result3)\n"
   ]
  }
 ],
 "metadata": {
  "kernelspec": {
   "display_name": "Python 3 (ipykernel)",
   "language": "python",
   "name": "python3"
  },
  "language_info": {
   "codemirror_mode": {
    "name": "ipython",
    "version": 3
   },
   "file_extension": ".py",
   "mimetype": "text/x-python",
   "name": "python",
   "nbconvert_exporter": "python",
   "pygments_lexer": "ipython3",
   "version": "3.10.6"
  }
 },
 "nbformat": 4,
 "nbformat_minor": 5
}
